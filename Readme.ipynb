{
 "cells": [
  {
   "cell_type": "markdown",
   "metadata": {},
   "source": [
    "### Introduction\n",
    "\n",
    "Welcome to Boston Massachusetts in the 1970s! Imagine you're working for a real estate development company. Your company wants to value any residential project before they start. You are tasked with building a model that can provide a price estimate based on a home's characteristics like:\n",
    "* The number of rooms\n",
    "* The distance to employment centres\n",
    "* How rich or poor the area is\n",
    "* How many students there are per teacher in local schools etc\n",
    "\n",
    "<img src=https://i.imgur.com/WfUSSP7.png height=350>\n",
    "\n",
    "To accomplish your task you will:\n",
    "\n",
    "1. Analyse and explore the Boston house price data\n",
    "2. Split your data for training and testing\n",
    "3. Run a Multivariable Regression\n",
    "4. Evaluate how your model's coefficients and residuals\n",
    "5. Use data transformation to improve your model performance\n",
    "6. Use your model to estimate a property price"
   ]
  },
  {
   "cell_type": "markdown",
   "metadata": {},
   "source": [
    "### Understand the Boston House Price Dataset\n",
    "\n",
    "---------------------------\n",
    "\n",
    "**Characteristics:**  \n",
    "\n",
    "    :Number of Instances: 506 \n",
    "\n",
    "    :Number of Attributes: 13 numeric/categorical predictive. The Median Value (attribute 14) is the target.\n",
    "\n",
    "    :Attribute Information (in order):\n",
    "        1. CRIM     per capita crime rate by town\n",
    "        2. ZN       proportion of residential land zoned for lots over 25,000 sq.ft.\n",
    "        3. INDUS    proportion of non-retail business acres per town\n",
    "        4. CHAS     Charles River dummy variable (= 1 if tract bounds river; 0 otherwise)\n",
    "        5. NOX      nitric oxides concentration (parts per 10 million)\n",
    "        6. RM       average number of rooms per dwelling\n",
    "        7. AGE      proportion of owner-occupied units built prior to 1940\n",
    "        8. DIS      weighted distances to five Boston employment centres\n",
    "        9. RAD      index of accessibility to radial highways\n",
    "        10. TAX      full-value property-tax rate per $10,000\n",
    "        11. PTRATIO  pupil-teacher ratio by town\n",
    "        12. B        1000(Bk - 0.63)^2 where Bk is the proportion of blacks by town\n",
    "        13. LSTAT    % lower status of the population\n",
    "        14. PRICE     Median value of owner-occupied homes in $1000's\n",
    "        \n"
   ]
  },
  {
   "cell_type": "markdown",
   "metadata": {},
   "source": [
    "# Multivariable Regression\n",
    "\n",
    "In a previous lesson, we had a linear model with only a single feature (our movie budgets). This time we have a total of 13 features. Therefore, our Linear Regression model will have the following form:\n",
    "\n",
    "$$ PR \\hat ICE = \\theta _0 + \\theta _1 RM + \\theta _2 NOX + \\theta _3 DIS + \\theta _4 CHAS ... + \\theta _{13} LSTAT$$"
   ]
  },
  {
   "cell_type": "markdown",
   "metadata": {},
   "source": [
    "## Regression using Log Prices\n",
    "\n",
    "Using log prices instead, our model has changed to:\n",
    "\n",
    "$$ \\log (PR \\hat ICE) = \\theta _0 + \\theta _1 RM + \\theta _2 NOX + \\theta_3 DIS + \\theta _4 CHAS + ... + \\theta _{13} LSTAT $$\n",
    "\n",
    "**Challenge**: \n",
    "\n",
    "* Use `train_test_split()` with the same random state as before to make the results comparable. \n",
    "* Run a second regression, but this time use the transformed target data. \n",
    "* What is the r-squared of the regression on the training data? \n",
    "* Have we improved the fit of our model compared to before based on this measure?\n"
   ]
  }
 ],
 "metadata": {
  "kernelspec": {
   "display_name": "Python 3",
   "language": "python",
   "name": "python3"
  },
  "language_info": {
   "name": "python",
   "version": "3.12.3"
  }
 },
 "nbformat": 4,
 "nbformat_minor": 2
}
