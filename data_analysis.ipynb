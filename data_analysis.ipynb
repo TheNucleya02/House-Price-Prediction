{
 "cells": [
  {
   "cell_type": "markdown",
   "metadata": {
    "id": "Qg7IDCTd-d2h"
   },
   "source": [
    "###  Import Statements\n"
   ]
  },
  {
   "cell_type": "code",
   "execution_count": null,
   "metadata": {
    "id": "3iYmJ3Fb-d2i"
   },
   "outputs": [],
   "source": [
    "import pandas as pd\n",
    "import numpy as np\n",
    "\n",
    "import seaborn as sns\n",
    "import plotly.express as px\n",
    "import matplotlib.pyplot as plt\n",
    "\n",
    "from sklearn.linear_model import LinearRegression\n",
    "from sklearn.model_selection import train_test_split"
   ]
  },
  {
   "cell_type": "markdown",
   "metadata": {
    "id": "YexUjiVdC0Oe"
   },
   "source": [
    "### Notebook Presentation"
   ]
  },
  {
   "cell_type": "code",
   "execution_count": null,
   "metadata": {
    "id": "AUvdOhPIC4Me"
   },
   "outputs": [],
   "source": [
    "pd.options.display.float_format = '{:,.2f}'.format"
   ]
  },
  {
   "cell_type": "markdown",
   "metadata": {
    "id": "VRlvO4zw-d2l"
   },
   "source": [
    "### Load the Data\n",
    "\n"
   ]
  },
  {
   "cell_type": "code",
   "execution_count": null,
   "metadata": {
    "id": "GlG_B81bYakP"
   },
   "outputs": [],
   "source": [
    "data = pd.read_csv('boston.csv', index_col=0)"
   ]
  },
  {
   "cell_type": "code",
   "execution_count": null,
   "metadata": {
    "colab": {
     "base_uri": "https://localhost:8080/",
     "height": 34
    },
    "id": "D5upUzjX-d2y",
    "outputId": "786ae376-cb55-4666-a560-3445bf1b7b0f"
   },
   "outputs": [],
   "source": [
    "data.shape # 506 data points"
   ]
  },
  {
   "cell_type": "code",
   "execution_count": null,
   "metadata": {
    "colab": {
     "base_uri": "https://localhost:8080/",
     "height": 68
    },
    "id": "5xy828gB-d20",
    "outputId": "f76fd2f0-0b3c-403b-bc74-35046c763bb9"
   },
   "outputs": [],
   "source": [
    "data.columns # column names"
   ]
  },
  {
   "cell_type": "code",
   "execution_count": null,
   "metadata": {
    "colab": {
     "base_uri": "https://localhost:8080/",
     "height": 204
    },
    "id": "f9GmUCC5-d26",
    "outputId": "dc68aa8f-c58b-47c5-88bd-bc4b53d333d1"
   },
   "outputs": [],
   "source": [
    "data.head()"
   ]
  },
  {
   "cell_type": "code",
   "execution_count": null,
   "metadata": {
    "colab": {
     "base_uri": "https://localhost:8080/",
     "height": 204
    },
    "id": "wjMsy5qC-d27",
    "outputId": "c6a5d286-0340-4afe-f5c5-f35457be2a51"
   },
   "outputs": [],
   "source": [
    "data.tail()"
   ]
  },
  {
   "cell_type": "code",
   "execution_count": null,
   "metadata": {
    "colab": {
     "base_uri": "https://localhost:8080/",
     "height": 272
    },
    "id": "S7smIa1--d29",
    "outputId": "bf1fc64d-a57e-46fc-c91e-514b87579d29"
   },
   "outputs": [],
   "source": [
    "data.count() # number of rows"
   ]
  },
  {
   "cell_type": "markdown",
   "metadata": {
    "id": "N0hzZhBA-d2_"
   },
   "source": [
    "### Data Cleaning - Check for Missing Values and Duplicates"
   ]
  },
  {
   "cell_type": "code",
   "execution_count": null,
   "metadata": {
    "colab": {
     "base_uri": "https://localhost:8080/",
     "height": 374
    },
    "id": "C4NP4das-d3B",
    "outputId": "ee7f6b14-3e7e-426a-9a32-7defcfa05a2d"
   },
   "outputs": [],
   "source": [
    "data.info()"
   ]
  },
  {
   "cell_type": "code",
   "execution_count": null,
   "metadata": {
    "colab": {
     "base_uri": "https://localhost:8080/",
     "height": 34
    },
    "id": "1lKTKrhDFZyS",
    "outputId": "62304fd6-ff8f-4817-c82e-c7b81e776f43"
   },
   "outputs": [],
   "source": [
    "print(f'Any NaN values? {data.isna().values.any()}')"
   ]
  },
  {
   "cell_type": "code",
   "execution_count": null,
   "metadata": {
    "colab": {
     "base_uri": "https://localhost:8080/",
     "height": 34
    },
    "id": "6EBC0T8K-d2_",
    "outputId": "b445fc44-52ad-41e0-cf1e-aca128f42217"
   },
   "outputs": [],
   "source": [
    "print(f'Any duplicates? {data.duplicated().values.any()}')"
   ]
  },
  {
   "cell_type": "code",
   "execution_count": null,
   "metadata": {
    "colab": {
     "base_uri": "https://localhost:8080/",
     "height": 317
    },
    "id": "cX3okH4uGuqc",
    "outputId": "19ee4058-0e3a-4106-d9c3-1709e25a3919"
   },
   "outputs": [],
   "source": [
    "data.describe()"
   ]
  },
  {
   "cell_type": "markdown",
   "metadata": {
    "id": "eRGb4b7bkQbe"
   },
   "source": [
    "#### House Prices 💰"
   ]
  },
  {
   "cell_type": "code",
   "execution_count": null,
   "metadata": {
    "colab": {
     "base_uri": "https://localhost:8080/",
     "height": 385
    },
    "id": "L1tqedkI-d3F",
    "outputId": "49e3b80a-c961-4d9c-ee35-be83a0a2adf9"
   },
   "outputs": [],
   "source": [
    "sns.displot(data['PRICE'], \n",
    "            bins=50, \n",
    "            aspect=2,\n",
    "            kde=True, \n",
    "            color='#2196f3')\n",
    "\n",
    "plt.title(f'1970s Home Values in Boston. Average: ${(1000*data.PRICE.mean()):.6}')\n",
    "plt.xlabel('Price in 000s')\n",
    "plt.ylabel('Nr. of Homes')\n",
    "\n",
    "plt.show()"
   ]
  },
  {
   "cell_type": "markdown",
   "metadata": {
    "id": "0mqTPLQMlxxz"
   },
   "source": [
    "#### Distance to Employment - Length of Commute 🚗"
   ]
  },
  {
   "cell_type": "code",
   "execution_count": null,
   "metadata": {
    "colab": {
     "base_uri": "https://localhost:8080/",
     "height": 385
    },
    "id": "t4oSIydckkS1",
    "outputId": "994372c0-a232-4b8f-853c-9469cf463311"
   },
   "outputs": [],
   "source": [
    "sns.displot(data.DIS, \n",
    "            bins=50, \n",
    "            aspect=2,\n",
    "            kde=True, \n",
    "            color='darkblue')\n",
    "\n",
    "plt.title(f'Distance to Employment Centres. Average: {(data.DIS.mean()):.2}')\n",
    "plt.xlabel('Weighted Distance to 5 Boston Employment Centres')\n",
    "plt.ylabel('Nr. of Homes')\n",
    "\n",
    "plt.show()"
   ]
  },
  {
   "cell_type": "markdown",
   "metadata": {
    "id": "2mE0xLc9rfVW"
   },
   "source": [
    "Most homes are about 3.8 miles away from work. There are fewer and fewer homes the further out we go. "
   ]
  },
  {
   "cell_type": "markdown",
   "metadata": {
    "id": "6nMMsL9DkUl9"
   },
   "source": [
    "#### Number of Rooms"
   ]
  },
  {
   "cell_type": "code",
   "execution_count": null,
   "metadata": {
    "colab": {
     "base_uri": "https://localhost:8080/",
     "height": 385
    },
    "id": "jrb3XOaA-d3D",
    "outputId": "4c9f48cd-83ad-478b-f7d6-2e0ffd8714fc"
   },
   "outputs": [],
   "source": [
    "sns.displot(data.RM, \n",
    "            aspect=2,\n",
    "            kde=True, \n",
    "            color='#00796b')\n",
    "\n",
    "plt.title(f'Distribution of Rooms in Boston. Average: {data.RM.mean():.2}')\n",
    "plt.xlabel('Average Number of Rooms')\n",
    "plt.ylabel('Nr. of Homes')\n",
    "\n",
    "plt.show()"
   ]
  },
  {
   "cell_type": "markdown",
   "metadata": {
    "id": "1Sz47c2UkXXw"
   },
   "source": [
    "#### Access to Highways 🛣"
   ]
  },
  {
   "cell_type": "code",
   "execution_count": null,
   "metadata": {
    "colab": {
     "base_uri": "https://localhost:8080/",
     "height": 424
    },
    "id": "3-ukd4D1-d3L",
    "outputId": "10566cc0-5d5f-475d-de5a-b5f7453fd0f3"
   },
   "outputs": [],
   "source": [
    "plt.figure(figsize=(7, 5), dpi=200)\n",
    "\n",
    "plt.hist(data['RAD'], \n",
    "         bins=24, \n",
    "         ec='black', \n",
    "         color='#7b1fa2', \n",
    "         rwidth=0.5)\n",
    "\n",
    "plt.xlabel('Accessibility to Highways')\n",
    "plt.ylabel('Nr. of Houses')\n",
    "plt.show()"
   ]
  },
  {
   "cell_type": "markdown",
   "metadata": {
    "id": "l_M1pqzVUas7"
   },
   "source": [
    "# Understand the Relationships in the Data"
   ]
  },
  {
   "cell_type": "code",
   "execution_count": null,
   "metadata": {
    "colab": {
     "base_uri": "https://localhost:8080/",
     "height": 802
    },
    "id": "0TGC8UHI-d33",
    "outputId": "fac61591-003d-4429-dd66-ba7c85103cba"
   },
   "outputs": [],
   "source": [
    "sns.pairplot(data)\n",
    "\n",
    "# You can even include a regression line\n",
    "# sns.pairplot(data, kind='reg', plot_kws={'line_kws':{'color': 'cyan'}})\n",
    "plt.show()"
   ]
  },
  {
   "cell_type": "markdown",
   "metadata": {
    "id": "_OQZTKQOma5A"
   },
   "source": [
    "#### Distance from Employment vs. Pollution\n",
    "\n"
   ]
  },
  {
   "cell_type": "code",
   "execution_count": null,
   "metadata": {
    "colab": {
     "base_uri": "https://localhost:8080/",
     "height": 585
    },
    "id": "aGLY8Bj7-d3q",
    "outputId": "8808403a-5f6d-4987-d331-a6c06c5da26b"
   },
   "outputs": [],
   "source": [
    "with sns.axes_style('darkgrid'):\n",
    "  sns.jointplot(x=data['DIS'], \n",
    "                y=data['NOX'], \n",
    "                height=8, \n",
    "                kind='scatter',\n",
    "                color='deeppink', \n",
    "                joint_kws={'alpha':0.5})\n",
    "\n",
    "plt.show()"
   ]
  },
  {
   "cell_type": "markdown",
   "metadata": {
    "id": "wKc6vwxCsbxz"
   },
   "source": [
    "#### Proportion of Non-Retail Industry 🏭🏭🏭 versus Pollution \n"
   ]
  },
  {
   "cell_type": "code",
   "execution_count": null,
   "metadata": {
    "colab": {
     "base_uri": "https://localhost:8080/",
     "height": 513
    },
    "id": "13x-cw9Dsbgb",
    "outputId": "085eaee5-8096-4b77-ad4c-ac1a051d068d"
   },
   "outputs": [],
   "source": [
    "with sns.axes_style('darkgrid'):\n",
    "  sns.jointplot(x=data.NOX, \n",
    "                y=data.INDUS, \n",
    "                # kind='hex', \n",
    "                height=7, \n",
    "                color='darkgreen',\n",
    "                joint_kws={'alpha':0.5})\n",
    "plt.show()"
   ]
  },
  {
   "cell_type": "markdown",
   "metadata": {
    "id": "ssO_ouF2r8bj"
   },
   "source": [
    "#### % of Lower Income Population vs Average Number of Rooms\n",
    "\n"
   ]
  },
  {
   "cell_type": "code",
   "execution_count": null,
   "metadata": {
    "colab": {
     "base_uri": "https://localhost:8080/",
     "height": 513
    },
    "id": "_lMCdg1m-d3s",
    "outputId": "ccbd817e-2a90-49ae-96fd-2ac523989187"
   },
   "outputs": [],
   "source": [
    "with sns.axes_style('darkgrid'):\n",
    "  sns.jointplot(x=data['LSTAT'], \n",
    "                y=data['RM'], \n",
    "                # kind='hex', \n",
    "                height=7, \n",
    "                color='orange',\n",
    "                joint_kws={'alpha':0.5})\n",
    "plt.show()"
   ]
  },
  {
   "cell_type": "markdown",
   "metadata": {
    "id": "Fs-5lByYr3tH"
   },
   "source": [
    "#### % of Lower Income Population versus Home Price\n",
    "\n"
   ]
  },
  {
   "cell_type": "code",
   "execution_count": null,
   "metadata": {
    "colab": {
     "base_uri": "https://localhost:8080/",
     "height": 513
    },
    "id": "ByHMqfg9-d3v",
    "outputId": "26f5df41-7753-419f-a463-3b0cbc6892d0"
   },
   "outputs": [],
   "source": [
    "with sns.axes_style('darkgrid'):\n",
    "  sns.jointplot(x=data.LSTAT, \n",
    "                y=data.PRICE, \n",
    "                # kind='hex', \n",
    "                height=7, \n",
    "                color='crimson',\n",
    "                joint_kws={'alpha':0.5})\n",
    "plt.show()"
   ]
  },
  {
   "cell_type": "markdown",
   "metadata": {
    "id": "_qMWIrs9sIGn"
   },
   "source": [
    "#### Number of Rooms versus Home Value\n",
    "\n"
   ]
  },
  {
   "cell_type": "code",
   "execution_count": null,
   "metadata": {
    "colab": {
     "base_uri": "https://localhost:8080/",
     "height": 513
    },
    "id": "mneEiglPsGDz",
    "outputId": "8b3be6e4-409a-4a1c-c45f-126fe016adf9"
   },
   "outputs": [],
   "source": [
    "with sns.axes_style('whitegrid'):\n",
    "  sns.jointplot(x=data.RM, \n",
    "                y=data.PRICE, \n",
    "                height=7, \n",
    "                color='darkblue',\n",
    "                joint_kws={'alpha':0.5})\n",
    "plt.show()"
   ]
  }
 ],
 "metadata": {
  "colab": {
   "name": "Multivariable Regression and Valuation Model (complete).ipynb",
   "provenance": [],
   "toc_visible": true
  },
  "kernelspec": {
   "display_name": "Python 3",
   "language": "python",
   "name": "python3"
  },
  "language_info": {
   "codemirror_mode": {
    "name": "ipython",
    "version": 3
   },
   "file_extension": ".py",
   "mimetype": "text/x-python",
   "name": "python",
   "nbconvert_exporter": "python",
   "pygments_lexer": "ipython3",
   "version": "3.12.3"
  }
 },
 "nbformat": 4,
 "nbformat_minor": 0
}
